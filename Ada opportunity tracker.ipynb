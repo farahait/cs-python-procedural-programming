{
 "cells": [
  {
   "cell_type": "markdown",
   "metadata": {},
   "source": [
    "# Procedural Programming\n",
    "\n",
    "We would like this Ada Opportunity tracker to have all the good features of procedural programming including\n",
    "\n",
    "- readbility\n",
    "- maintainability\n",
    "- re-useability"
   ]
  },
  {
   "cell_type": "code",
   "execution_count": null,
   "metadata": {},
   "outputs": [],
   "source": [
    "name =  input(\"What is the student's name?\")\n",
    "cs = int(input (\"What are the marks in CS?\"))\n",
    "behaviour = int(input (\"How many behaviour points? \"))\n",
    "attendance = int(input (\" What is the attendance of the student (out of 100)\"))\n",
    "punctuality = int(input (\" What is the punctuality of the student? (out of 100)\"))\n",
    "\n",
    "if cs > 50 and  punctuality == 100 and attendance > 95 and behaviour > 10:\n",
    "    print(\"The student is allowed to participate in Bank of America project\")\n",
    "else:\n",
    "    print(\"The student is not allowed to participate in Bank of America project\")\n",
    "\n",
    "    if cs > 60 and punctuality == 100 and attendance > 93  and behaviourPoints > 20:\n",
    "        print(\"You are allowed to participate in KING Games project\")\n",
    "    else:\n",
    "        print(\"The student is not allowed to participate in KING Games project\")  \n",
    "\n",
    "if  cs > 70 and punctuality == 100 and attendance > 92  and behaviourPoints > 40:\n",
    "    print(\"You are allowed to participate in the Deloitte IoT project\")\n",
    "else:\n",
    "    print(\"The student is not allowed to participate in the Deloitte IoT project\")"
   ]
  },
  {
   "cell_type": "code",
   "execution_count": 13,
   "metadata": {},
   "outputs": [],
   "source": [
    "def BOAM():\n",
    "    if cs > 50 and  punctuality == 100 and attendance > 95 and behaviour > 10:\n",
    "        print(\"The student is allowed to participate in Bank of America project\")\n",
    "    else:\n",
    "        print(\"The student is not allowed to participate in Bank of America project\")\n",
    "\n",
    "def KING():\n",
    "    if cs > 60 and punctuality == 100 and attendance > 93  and behaviour > 20:\n",
    "        print(\"You are allowed to participate in KING Games project\")\n",
    "    else:\n",
    "        print(\"The student is not allowed to participate in KING Games project\")  \n",
    "\n",
    "def DELOITTE():\n",
    "    if  cs > 70 and punctuality == 100 and attendance > 92  and behaviour > 40:\n",
    "        print(\"You are allowed to participate in the Deloitte IoT project\")\n",
    "    else:\n",
    "        print(\"The student is not allowed to participate in the Deloitte IoT project\")"
   ]
  },
  {
   "cell_type": "code",
   "execution_count": 14,
   "metadata": {},
   "outputs": [
    {
     "name": "stdout",
     "output_type": "stream",
     "text": [
      "What is the student's name?FRED\n",
      "What are the marks in CS?100\n",
      "How many behaviour points? 100\n",
      " What is the attendance of the student (out of 100)100\n",
      " What is the punctuality of the student? (out of 100)100\n",
      "The student is allowed to participate in Bank of America project\n",
      "You are allowed to participate in KING Games project\n",
      "You are allowed to participate in the Deloitte IoT project\n"
     ]
    }
   ],
   "source": [
    "name =  input(\"What is the student's name?\")\n",
    "cs = int(input (\"What are the marks in CS?\"))\n",
    "behaviour = int(input (\"How many behaviour points? \"))\n",
    "attendance = int(input (\" What is the attendance of the student (out of 100)\"))\n",
    "punctuality = int(input (\" What is the punctuality of the student? (out of 100)\"))\n",
    "\n",
    "BOAM()\n",
    "KING()\n",
    "DELOITTE()"
   ]
  }
 ],
 "metadata": {
  "kernelspec": {
   "display_name": "Python 3",
   "language": "python",
   "name": "python3"
  },
  "language_info": {
   "codemirror_mode": {
    "name": "ipython",
    "version": 3
   },
   "file_extension": ".py",
   "mimetype": "text/x-python",
   "name": "python",
   "nbconvert_exporter": "python",
   "pygments_lexer": "ipython3",
   "version": "3.6.7"
  }
 },
 "nbformat": 4,
 "nbformat_minor": 2
}
